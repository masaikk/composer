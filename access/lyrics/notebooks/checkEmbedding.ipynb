{
 "cells": [
  {
   "cell_type": "code",
   "execution_count": 3,
   "metadata": {
    "collapsed": true
   },
   "outputs": [],
   "source": [
    "import numpy as np\n",
    "from gensim.models import Word2Vec"
   ]
  },
  {
   "cell_type": "code",
   "execution_count": 4,
   "outputs": [],
   "source": [
    "syll_model_path = '/home/b8313/coding/music/Lyrics-Conditioned-Neural-Melody-Generation/enc_models/syllEncoding_20190419.bin'\n",
    "word_model_path = '/home/b8313/coding/music/Lyrics-Conditioned-Neural-Melody-Generation/enc_models/wordLevelEncoder_20190419.bin'\n",
    "\n",
    "syllModel = Word2Vec.load(syll_model_path)\n",
    "wordModel = Word2Vec.load(word_model_path)\n",
    "syll2Vec = syllModel.wv['Hello']\n",
    "word2Vec = wordModel.wv['world']"
   ],
   "metadata": {
    "collapsed": false,
    "pycharm": {
     "name": "#%%\n"
    }
   }
  },
  {
   "cell_type": "code",
   "execution_count": 15,
   "outputs": [
    {
     "data": {
      "text/plain": "array([-0.8974644 , -2.9469407 , -0.47475973,  2.1487546 ,  0.1196008 ,\n        1.7902173 , -2.376493  ,  2.1324573 ,  1.0014353 ,  0.2313228 ],\n      dtype=float32)"
     },
     "execution_count": 15,
     "metadata": {},
     "output_type": "execute_result"
    }
   ],
   "source": [
    "wordModel.wv['attention']"
   ],
   "metadata": {
    "collapsed": false,
    "pycharm": {
     "name": "#%%\n"
    }
   }
  },
  {
   "cell_type": "code",
   "execution_count": 24,
   "outputs": [],
   "source": [
    "KeyedVectors=syllModel.wv\n"
   ],
   "metadata": {
    "collapsed": false,
    "pycharm": {
     "name": "#%%\n"
    }
   }
  },
  {
   "cell_type": "code",
   "execution_count": null,
   "outputs": [],
   "source": [],
   "metadata": {
    "collapsed": false,
    "pycharm": {
     "name": "#%%\n"
    }
   }
  }
 ],
 "metadata": {
  "kernelspec": {
   "display_name": "Python 3",
   "language": "python",
   "name": "python3"
  },
  "language_info": {
   "codemirror_mode": {
    "name": "ipython",
    "version": 2
   },
   "file_extension": ".py",
   "mimetype": "text/x-python",
   "name": "python",
   "nbconvert_exporter": "python",
   "pygments_lexer": "ipython2",
   "version": "2.7.6"
  }
 },
 "nbformat": 4,
 "nbformat_minor": 0
}